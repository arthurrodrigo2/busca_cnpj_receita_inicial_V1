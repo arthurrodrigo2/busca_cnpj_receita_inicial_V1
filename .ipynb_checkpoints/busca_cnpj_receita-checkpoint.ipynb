{
 "cells": [
  {
   "cell_type": "code",
   "execution_count": 9,
   "id": "84dfe899-4834-4b6a-8687-0719fff29503",
   "metadata": {},
   "outputs": [
    {
     "name": "stdin",
     "output_type": "stream",
     "text": [
      "Digite o CNPJ (apenas números):  34028316003129\n"
     ]
    },
    {
     "name": "stdout",
     "output_type": "stream",
     "text": [
      "Buscando informações...\n",
      "Informações salvas no arquivo: info_empresa_34028316003129.csv\n"
     ]
    }
   ],
   "source": [
    "import requests\n",
    "import json\n",
    "from datetime import datetime\n",
    "\n",
    "def buscar_cnpj(cnpj):\n",
    "    url = f\"https://www.receitaws.com.br/v1/cnpj/{cnpj}\"\n",
    "    response = requests.get(url)\n",
    "    \n",
    "    if response.status_code == 200:\n",
    "        return response.json()\n",
    "    else:\n",
    "        return None\n",
    "\n",
    "def salvar_informacoes(dados, nome_arquivo):\n",
    "    with open(nome_arquivo, 'w', encoding='utf-8') as arquivo:\n",
    "        arquivo.write(f\"Informações da empresa (CNPJ: {dados['cnpj']})\\n\")\n",
    "        arquivo.write(f\"Data da consulta: {datetime.now().strftime('%d/%m/%Y %H:%M:%S')}\\n\\n\")\n",
    "        \n",
    "        campos = [\n",
    "            \"nome\", \"fantasia\", \"logradouro\", \"numero\", \"complemento\",\n",
    "            \"municipio\", \"uf\", \"cep\", \"telefone\", \"email\",\n",
    "            \"situacao\", \"data_situacao\", \"cnae_principal\",\n",
    "            \"capital_social\", \"porte\", \"natureza_juridica\"\n",
    "        ]\n",
    "        \n",
    "        for campo in campos:\n",
    "            if campo in dados:\n",
    "                arquivo.write(f\"{campo.replace('_', ' ').title()}: {dados[campo]}\\n\")\n",
    "        \n",
    "        arquivo.write(\"\\nAtividades secundárias:\\n\")\n",
    "        for atividade in dados.get('atividades_secundarias', []):\n",
    "            arquivo.write(f\"- {atividade['text']}\\n\")\n",
    "\n",
    "def main():\n",
    "    cnpj = input(\"Digite o CNPJ (apenas números): \")\n",
    "    cnpj = ''.join(filter(str.isdigit, cnpj))\n",
    "    \n",
    "    if len(cnpj) != 14:\n",
    "        print(\"CNPJ inválido. Por favor, digite 14 dígitos.\")\n",
    "        return\n",
    "    \n",
    "    print(\"Buscando informações...\")\n",
    "    dados = buscar_cnpj(cnpj)\n",
    "    \n",
    "    if dados:\n",
    "        nome_arquivo = f\"info_empresa_{cnpj}.txt\"\n",
    "        salvar_informacoes(dados, nome_arquivo)\n",
    "        print(f\"Informações salvas no arquivo: {nome_arquivo}\")\n",
    "    else:\n",
    "        print(\"Não foi possível obter as informações. Verifique o CNPJ e tente novamente.\")\n",
    "\n",
    "if __name__ == \"__main__\":\n",
    "    main()"
   ]
  }
 ],
 "metadata": {
  "kernelspec": {
   "display_name": "Python 3 (ipykernel)",
   "language": "python",
   "name": "python3"
  },
  "language_info": {
   "codemirror_mode": {
    "name": "ipython",
    "version": 3
   },
   "file_extension": ".py",
   "mimetype": "text/x-python",
   "name": "python",
   "nbconvert_exporter": "python",
   "pygments_lexer": "ipython3",
   "version": "3.12.4"
  }
 },
 "nbformat": 4,
 "nbformat_minor": 5
}
